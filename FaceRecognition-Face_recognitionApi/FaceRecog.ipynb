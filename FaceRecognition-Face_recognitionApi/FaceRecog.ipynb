{
 "cells": [
  {
   "cell_type": "code",
   "execution_count": 1,
   "metadata": {},
   "outputs": [],
   "source": [
    "import os\n",
    "import cv2\n",
    "import numpy as np\n",
    "import face_recognition"
   ]
  },
  {
   "cell_type": "code",
   "execution_count": 2,
   "metadata": {},
   "outputs": [
    {
     "name": "stdout",
     "output_type": "stream",
     "text": [
      "['random Guy']\n"
     ]
    }
   ],
   "source": [
    "path = 'RegisteredPersons'\n",
    "\n",
    "persons = []\n",
    "names = []\n",
    "myList = os.listdir(path)\n",
    "\n",
    "for img in myList:\n",
    "    person = cv2.imread(f'{path}/{img}')\n",
    "    persons.append(person)\n",
    "    names.append(os.path.splitext(img)[0])\n",
    "\n",
    "print(names)\n"
   ]
  },
  {
   "cell_type": "code",
   "execution_count": 3,
   "metadata": {},
   "outputs": [
    {
     "name": "stdout",
     "output_type": "stream",
     "text": [
      "1\n"
     ]
    }
   ],
   "source": [
    "def encoders(persons):\n",
    "    encodedPersons = []\n",
    "    for person in persons:\n",
    "        person = cv2.cvtColor(person,cv2.COLOR_BGR2RGB)\n",
    "        encoder = face_recognition.face_encodings(person)[0]\n",
    "        encodedPersons.append(encoder)\n",
    "    return encodedPersons\n",
    "\n",
    "encodedList_known = encoders(persons)\n",
    "print(len(encodedList_known))"
   ]
  },
  {
   "cell_type": "code",
   "execution_count": 4,
   "metadata": {},
   "outputs": [
    {
     "name": "stdout",
     "output_type": "stream",
     "text": [
      "[0.68032498]\n",
      "Unknown\n",
      "[0.81153725]\n",
      "Unknown\n",
      "[0.79023726]\n",
      "Unknown\n",
      "[0.78010012]\n",
      "Unknown\n",
      "[0.76590478]\n",
      "Unknown\n",
      "[0.74292769]\n",
      "Unknown\n",
      "[0.76842154]\n",
      "Unknown\n",
      "[0.73059291]\n",
      "Unknown\n",
      "[0.73383079]\n",
      "Unknown\n",
      "[0.68309307]\n",
      "Unknown\n",
      "[0.67420891]\n",
      "Unknown\n",
      "[0.69534311]\n",
      "Unknown\n",
      "[0.75950308]\n",
      "Unknown\n",
      "[0.73405028]\n",
      "Unknown\n",
      "[0.73977783]\n",
      "Unknown\n",
      "[0.83638248]\n",
      "Unknown\n",
      "[0.81240515]\n",
      "Unknown\n",
      "[0.73717616]\n",
      "Unknown\n",
      "[0.76468964]\n",
      "Unknown\n",
      "[0.83629064]\n",
      "Unknown\n",
      "[0.80321813]\n",
      "Unknown\n",
      "[0.80265126]\n",
      "Unknown\n",
      "[0.79512406]\n",
      "Unknown\n",
      "[0.83359688]\n",
      "Unknown\n",
      "[0.77521199]\n",
      "Unknown\n",
      "[0.66090518]\n",
      "Unknown\n",
      "[0.73709523]\n",
      "Unknown\n",
      "[0.64075973]\n",
      "Unknown\n",
      "[0.67631001]\n",
      "Unknown\n",
      "[0.69461409]\n",
      "Unknown\n",
      "[0.76781358]\n",
      "Unknown\n",
      "[0.72414674]\n",
      "Unknown\n",
      "[0.68590168]\n",
      "Unknown\n",
      "[0.64969385]\n",
      "Unknown\n",
      "[0.59178982]\n",
      "Unknown\n",
      "[0.74372857]\n",
      "Unknown\n",
      "[0.742223]\n",
      "Unknown\n",
      "[0.69666972]\n",
      "Unknown\n",
      "[0.64476756]\n",
      "Unknown\n",
      "[0.63052123]\n",
      "Unknown\n",
      "[0.67226984]\n",
      "Unknown\n",
      "[0.67274001]\n",
      "Unknown\n",
      "[0.68098621]\n",
      "Unknown\n",
      "[0.71346466]\n",
      "Unknown\n",
      "[0.65565991]\n",
      "Unknown\n",
      "[0.62789702]\n",
      "Unknown\n",
      "[0.66546813]\n",
      "Unknown\n",
      "[0.74983566]\n",
      "Unknown\n",
      "[0.70783152]\n",
      "Unknown\n",
      "[0.7131036]\n",
      "Unknown\n",
      "[0.68571034]\n",
      "Unknown\n",
      "[0.71758918]\n",
      "Unknown\n",
      "[0.77454362]\n",
      "Unknown\n"
     ]
    },
    {
     "ename": "NameError",
     "evalue": "name 'q' is not defined",
     "output_type": "error",
     "traceback": [
      "\u001b[1;31m---------------------------------------------------------------------------\u001b[0m",
      "\u001b[1;31mNameError\u001b[0m                                 Traceback (most recent call last)",
      "\u001b[1;32m<ipython-input-4-926b4da0ca76>\u001b[0m in \u001b[0;36m<module>\u001b[1;34m\u001b[0m\n\u001b[0;32m     34\u001b[0m     \u001b[0mcv2\u001b[0m\u001b[1;33m.\u001b[0m\u001b[0mimshow\u001b[0m\u001b[1;33m(\u001b[0m\u001b[1;34m'webcam'\u001b[0m\u001b[1;33m,\u001b[0m\u001b[0mimg\u001b[0m\u001b[1;33m)\u001b[0m\u001b[1;33m\u001b[0m\u001b[1;33m\u001b[0m\u001b[0m\n\u001b[0;32m     35\u001b[0m     \u001b[1;32mif\u001b[0m \u001b[0mcv2\u001b[0m\u001b[1;33m.\u001b[0m\u001b[0mwaitKey\u001b[0m\u001b[1;33m(\u001b[0m\u001b[1;36m1\u001b[0m\u001b[1;33m)\u001b[0m \u001b[1;33m&\u001b[0m \u001b[1;36m0xFF\u001b[0m \u001b[1;33m==\u001b[0m \u001b[0mord\u001b[0m\u001b[1;33m(\u001b[0m\u001b[1;34m'q'\u001b[0m\u001b[1;33m)\u001b[0m\u001b[1;33m:\u001b[0m\u001b[1;33m\u001b[0m\u001b[1;33m\u001b[0m\u001b[0m\n\u001b[1;32m---> 36\u001b[1;33m             \u001b[0mcapture\u001b[0m\u001b[1;33m.\u001b[0m\u001b[0mrelease\u001b[0m\u001b[1;33m(\u001b[0m\u001b[0mq\u001b[0m\u001b[1;33m)\u001b[0m\u001b[1;33m\u001b[0m\u001b[1;33m\u001b[0m\u001b[0m\n\u001b[0m\u001b[0;32m     37\u001b[0m             \u001b[0mcv2\u001b[0m\u001b[1;33m.\u001b[0m\u001b[0mdestroyAllWindows\u001b[0m\u001b[1;33m(\u001b[0m\u001b[1;33m)\u001b[0m\u001b[1;33m\u001b[0m\u001b[1;33m\u001b[0m\u001b[0m\n\u001b[0;32m     38\u001b[0m \u001b[1;33m\u001b[0m\u001b[0m\n",
      "\u001b[1;31mNameError\u001b[0m: name 'q' is not defined"
     ]
    }
   ],
   "source": [
    "capture = cv2.VideoCapture(0)\n",
    "while True:\n",
    "    Capturing, img = capture.read()\n",
    "    imgResize = cv2.resize(img,(0,0),None,.25,.25)\n",
    "    imgResize = cv2.cvtColor(imgResize,cv2.COLOR_BGR2RGB)\n",
    "    \n",
    "    faceLocations = face_recognition.face_locations(imgResize)\n",
    "    faceEncoding = face_recognition.face_encodings(imgResize,faceLocations)\n",
    "    \n",
    "    for encodedface,faceloc in zip(faceEncoding,faceLocations):\n",
    "        matched_face = face_recognition.compare_faces(encodedList_known,encodedface)\n",
    "        faceDis = face_recognition.face_distance(encodedList_known,encodedface)\n",
    "        print(faceDis)\n",
    "        matchIndex = np.argmin(faceDis)\n",
    "        \n",
    "        if faceDis[matchIndex]<0.50:\n",
    "            name = names[matchIndex].upper()\n",
    "            y1,x2,y2,x1 = faceloc\n",
    "            y1,x2,y2,x1 = y1*4,x2*4,y2*4,x1*4\n",
    "            cv2.rectangle(img,(x1,y1),(x2,y2),(0,0,255),2)\n",
    "            cv2.rectangle(img,(x1,y2-35),(x2,y2),(0,0,255),cv2.FILLED)\n",
    "            cv2.putText(img,name,(x1+6,y2-6),cv2.FONT_HERSHEY_COMPLEX,1,(255,255,255),2)\n",
    "        else:\n",
    "            name = 'Unknown'\n",
    "            print(name)\n",
    "            y1,x2,y2,x1 = faceloc\n",
    "            y1,x2,y2,x1 = y1*4,x2*4,y2*4,x1*4\n",
    "            cv2.rectangle(img,(x1,y1),(x2,y2),(0,0,255),2)\n",
    "            cv2.rectangle(img,(x1,y2-35),(x2,y2),(0,0,255),cv2.FILLED)\n",
    "            cv2.putText(img,name,(x1+6,y2-6),cv2.FONT_HERSHEY_COMPLEX,1,(255,255,255),2)\n",
    "\n",
    "        \n",
    "    \n",
    "    cv2.imshow('webcam',img)\n",
    "    if cv2.waitKey(1) & 0xFF == ord('q'):\n",
    "            capture.release(q)\n",
    "            cv2.destroyAllWindowqs()\n",
    "         \n"
   ]
  },
  {
   "cell_type": "code",
   "execution_count": null,
   "metadata": {},
   "outputs": [],
   "source": []
  },
  {
   "cell_type": "code",
   "execution_count": null,
   "metadata": {},
   "outputs": [],
   "source": []
  }
 ],
 "metadata": {
  "kernelspec": {
   "display_name": "Python 3",
   "language": "python",
   "name": "python3"
  },
  "language_info": {
   "codemirror_mode": {
    "name": "ipython",
    "version": 3
   },
   "file_extension": ".py",
   "mimetype": "text/x-python",
   "name": "python",
   "nbconvert_exporter": "python",
   "pygments_lexer": "ipython3",
   "version": "3.7.4"
  }
 },
 "nbformat": 4,
 "nbformat_minor": 4
}
